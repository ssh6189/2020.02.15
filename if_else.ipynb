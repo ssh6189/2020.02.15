{
 "cells": [
  {
   "cell_type": "markdown",
   "metadata": {},
   "source": [
    "<H1>1. 두 정수 A와 B가 주어졌을 때, A와 B를 비교하는 프로그램을 작성하시오.</H1>"
   ]
  },
  {
   "cell_type": "code",
   "execution_count": 4,
   "metadata": {
    "ExecuteTime": {
     "end_time": "2020-02-12T03:53:27.388134Z",
     "start_time": "2020-02-12T03:53:26.225272Z"
    }
   },
   "outputs": [
    {
     "name": "stdout",
     "output_type": "stream",
     "text": [
      "5 5\n",
      "==\n"
     ]
    }
   ],
   "source": [
    "A, B = map(int, input(\"\").split())\n",
    "\n",
    "if(A > B):\n",
    "    print(\">\")\n",
    "elif(A < B):\n",
    "    print(\"<\")\n",
    "else:\n",
    "    print(\"==\")"
   ]
  },
  {
   "cell_type": "markdown",
   "metadata": {},
   "source": [
    "<H1>2. 시험 점수를 입력받아 90 ~ 100점은 A, 80 ~ 89점은 B, 70 ~ 79점은 C, 60 ~ 69점은 D, 나머지 점수는 F를 출력하는 프로그램을 작성하시오.</H1>"
   ]
  },
  {
   "cell_type": "code",
   "execution_count": 2,
   "metadata": {
    "ExecuteTime": {
     "end_time": "2020-02-12T04:18:02.959179Z",
     "start_time": "2020-02-12T04:18:01.504692Z"
    }
   },
   "outputs": [
    {
     "name": "stdout",
     "output_type": "stream",
     "text": [
      "시험 점수를 입력하시오.51\n",
      "F\n"
     ]
    }
   ],
   "source": [
    "score = int(input())\n",
    "\n",
    "if (score >= 90):\n",
    "    print(\"A\")\n",
    "elif (score >= 80):\n",
    "    print(\"B\")\n",
    "elif (score >= 70):\n",
    "    print(\"C\")\n",
    "elif (score >= 60):\n",
    "    print(\"D\")\n",
    "else:\n",
    "    print(\"F\")\n"
   ]
  },
  {
   "cell_type": "markdown",
   "metadata": {},
   "source": [
    "<H1>3. 연도가 주어졌을 때, 윤년이면 1, 아니면 0을 출력하는 프로그램을 작성하시오.\n",
    "\n",
    "윤년은 연도가 4의 배수이면서, 100의 배수가 아닐 때 또는 400의 배수일 때 이다.\n",
    "\n",
    "예를들어, 2012년은 4의 배수라서 윤년이지만, 1900년은 4의 배수이지만, 100의 배수이기 때문에 윤년이 아니다.\n",
    "\n",
    "하지만, 2000년은 400의 배수이기 때문에 윤년이다. </H1>\n"
   ]
  },
  {
   "cell_type": "code",
   "execution_count": 4,
   "metadata": {
    "ExecuteTime": {
     "end_time": "2020-02-12T23:54:23.778777Z",
     "start_time": "2020-02-12T23:54:22.137014Z"
    }
   },
   "outputs": [
    {
     "name": "stdout",
     "output_type": "stream",
     "text": [
      "100\n",
      "0\n"
     ]
    }
   ],
   "source": [
    "year = int(input())\n",
    "\n",
    "if ((year%4 == 0) and (year%100 != 0) or (year%400 == 0)):\n",
    "    print(\"1\")\n",
    "else:\n",
    "    print(\"0\")"
   ]
  },
  {
   "cell_type": "markdown",
   "metadata": {},
   "source": [
    "<H1>4. 상근이는 매일 아침 알람을 듣고 일어난다. 알람을 듣고 바로 일어나면 다행이겠지만, 항상 조금만 더 자려는 마음 때문에 매일 학교를 \n",
    "    지각하고 있다.</H1>\n",
    "\n",
    "<H1>상근이는 모든 방법을 동원해보았지만, 조금만 더 자려는 마음은 그 어떤 것도 없앨 수가 없었다.</H1>\n",
    "\n",
    "<H1>이런 상근이를 불쌍하게 보던, 창영이는 자신이 사용하는 방법을 추천해 주었다.</H1>\n",
    "\n",
    "<H1>바로 \"45분 일찍 알람 맞추기\"이다.</H1>\n",
    "\n",
    "<H1>이 방법은 단순하다. 원래 맞춰져있는 알람을 45분 앞서는 시간으로 바꾸는 것이다. 어차피 알람 소리를 들으면, 알람을 끄고 조금 더 잘 것이기 때문이다. 이 방법을 사용하면, 매일 아침 더 잤다는 기분을 느낄 수 있고, 학교도 지각하지 않게 된다.</H1>\n",
    "\n",
    "<H1>현재 상근이가 맞춰논 알람 시각이 주어졌을 때, 창영이의 방법을 사용한다면, 이를 언제로 고쳐야 하는지 구하는 프로그램을 작성하시오.</H1>"
   ]
  },
  {
   "cell_type": "code",
   "execution_count": 6,
   "metadata": {
    "ExecuteTime": {
     "end_time": "2020-02-13T23:54:00.365938Z",
     "start_time": "2020-02-13T23:53:56.148786Z"
    }
   },
   "outputs": [
    {
     "name": "stdout",
     "output_type": "stream",
     "text": [
      "00 20\n",
      "23 35\n"
     ]
    }
   ],
   "source": [
    "H, M = map(int, input(\"\"). split())\n",
    "\n",
    "S = H*60 + M\n",
    "\n",
    "S = S - 45\n",
    "\n",
    "if (S>=0):\n",
    "    H = S//60\n",
    "    M = S%60\n",
    "    \n",
    "    print(H, M)\n",
    "    \n",
    "else:\n",
    "    H = S//60 + 24\n",
    "    M = S%60\n",
    "    \n",
    "    print(H, M)"
   ]
  },
  {
   "cell_type": "markdown",
   "metadata": {},
   "source": [
    "<H1>5. 세 정수 A, B, C가 주어진다. 이때, 두 번째로 큰 정수를 출력하는 프로그램을 작성하시오.</H1>"
   ]
  },
  {
   "cell_type": "code",
   "execution_count": 11,
   "metadata": {
    "ExecuteTime": {
     "end_time": "2020-02-13T23:58:45.062057Z",
     "start_time": "2020-02-13T23:58:41.419719Z"
    }
   },
   "outputs": [
    {
     "name": "stdout",
     "output_type": "stream",
     "text": [
      "5 9 1\n",
      "5\n"
     ]
    }
   ],
   "source": [
    "A, B, C = map(int, input(\"\"). split())\n",
    "\n",
    "S = sorted([A, B, C])\n",
    "\n",
    "print(S[1])"
   ]
  },
  {
   "cell_type": "markdown",
   "metadata": {},
   "source": [
    "<H1>6. 상근날드에서 가장 잘 팔리는 메뉴는 세트 메뉴이다.</H1>\n",
    "    \n",
    "<H1>주문할 때, 자신이 원하는 햄버거와 음료를 하나씩 골라, 세트로 구매하면, 가격의 합계에서 50원을 뺀 가격이 세트 메뉴의 가격이 된다.</H1>\n",
    "\n",
    "<H1>햄버거는 총 3종류 상덕버거, 중덕버거, 하덕버거가 있고, 음료는 콜라와 사이다 두 종류가 있다.</H1>\n",
    "\n",
    "<H1>햄버거와 음료의 가격이 주어졌을 때, 가장 싼 세트 메뉴의 가격을 출력하는 프로그램을 작성하시오.</H1>\n",
    "\n",
    "<H1>입력은 총 다섯 줄이다.</H1>\n",
    "\n",
    "<H1>첫째 줄에는 상덕버거, 둘째 줄에는 중덕버거, 셋째 줄에는 하덕버거의 가격이 주어진다.</H1>\n",
    "<H1>넷째 줄에는 콜라의 가격, 다섯째 줄에는 사이다의 가격이 주어진다.</H1>\n",
    "\n",
    "<H1>모든 가격은 100원 이상, 2000원 이하이다.</H1>"
   ]
  },
  {
   "cell_type": "code",
   "execution_count": 2,
   "metadata": {},
   "outputs": [
    {
     "name": "stdout",
     "output_type": "stream",
     "text": [
      "800\n",
      "700\n",
      "900\n",
      "198\n",
      "330\n",
      "848\n"
     ]
    }
   ],
   "source": [
    "a = int(input())\n",
    "b = int(input())\n",
    "c = int(input())\n",
    "d = int(input())\n",
    "e = int(input())\n",
    "\n",
    "hamburger = [a, b, c]\n",
    "beverage = [d, e]\n",
    "\n",
    "p1 = min(hamburger)\n",
    "p2 = min(beverage)\n",
    "\n",
    "print(p1 + p2 - 50)"
   ]
  },
  {
   "cell_type": "markdown",
   "metadata": {},
   "source": [
    "<H1>7. 상현이가 가르치는 아이폰 앱 개발 수업의 수강생은 원섭, 세희, 상근, 숭, 강수이다.</H1>\n",
    "\n",
    "<H1>어제 이 수업의 기말고사가 있었고, 상현이는 지금 학생들의 기말고사 시험지를 채점하고 있다.</H1> \n",
    "\n",
    "<H1>기말고사 점수가 40점 이상인 학생들은 그 점수 그대로 자신의 성적이 된다.</H1> \n",
    "\n",
    "<H1>하지만, 40점 미만인 학생들은 보충학습을 듣는 조건을 수락하면 40점을 받게 된다.</H1>\n",
    "\n",
    "<H1>보충학습은 거부할 수 없기 때문에, 40점 미만인 학생들은 항상 40점을 받게 된다.</H1>\n",
    "\n",
    "<H1>학생 5명의 점수가 주어졌을 때, 평균 점수를 구하는 프로그램을 작성하시오.</H1>\n",
    "\n",
    "<H1>입력은 총 5줄로 이루어져 있고, 원섭이의 점수, 세희의 점수, 상근이의 점수, 숭이의 점수, 강수의 점수가 순서대로 주어진다.</H1>\n",
    "\n",
    "<H1>점수는 모두 0점 이상, 100점 이하인 5의 배수이다. 따라서, 평균 점수는 항상 정수이다.</H1>"
   ]
  },
  {
   "cell_type": "code",
   "execution_count": 11,
   "metadata": {},
   "outputs": [
    {
     "name": "stdout",
     "output_type": "stream",
     "text": [
      "10\n",
      "100\n",
      "65\n",
      "30\n",
      "95\n",
      "68\n"
     ]
    }
   ],
   "source": [
    "a = int(input())\n",
    "b = int(input())\n",
    "c = int(input())\n",
    "d = int(input())\n",
    "e = int(input())\n",
    "\n",
    "score = [a, b, c, d, e]\n",
    "\n",
    "for i in range(5):\n",
    "    if(score[i] < 40):\n",
    "        score[i] = 40\n",
    "\n",
    "print(int(sum(score)/5))"
   ]
  },
  {
   "cell_type": "markdown",
   "metadata": {},
   "source": [
    "<H1>8. 사분면 고르기\n",
    "<img src = \"quadrant.jpg\">\n",
    "</H1>"
   ]
  },
  {
   "cell_type": "code",
   "execution_count": 4,
   "metadata": {},
   "outputs": [
    {
     "name": "stdout",
     "output_type": "stream",
     "text": [
      "0\n",
      "0\n",
      "4\n"
     ]
    }
   ],
   "source": [
    "x = int(input(\"\"))\n",
    "y = int(input(\"\"))\n",
    "\n",
    "if(x > 0 and y > 0):\n",
    "    print(1)\n",
    "elif(x < 0 and y > 0):\n",
    "    print(2)\n",
    "elif(x < 0 and y < 0):\n",
    "    print(3)\n",
    "else:\n",
    "    print(4)"
   ]
  },
  {
   "cell_type": "code",
   "execution_count": null,
   "metadata": {},
   "outputs": [],
   "source": []
  }
 ],
 "metadata": {
  "kernelspec": {
   "display_name": "Python 3",
   "language": "python",
   "name": "python3"
  },
  "language_info": {
   "codemirror_mode": {
    "name": "ipython",
    "version": 3
   },
   "file_extension": ".py",
   "mimetype": "text/x-python",
   "name": "python",
   "nbconvert_exporter": "python",
   "pygments_lexer": "ipython3",
   "version": "3.7.4"
  }
 },
 "nbformat": 4,
 "nbformat_minor": 4
}
